{
 "cells": [
  {
   "cell_type": "markdown",
   "metadata": {},
   "source": [
    "# Problem 1 - Working with RDDs (5 points)\n",
    "\n",
    "This is an interactive PySpark session. Remember that when you open this notebook the `SparkContext` and `SparkSession` are already created, and they are in the `sc` and `spark` variables, respectively. You can run the following two cells to make sure that the Kernel is active.\n",
    "\n",
    "**Do not insert any additional cells than the ones that are provided.**"
   ]
  },
  {
   "cell_type": "code",
   "execution_count": 1,
   "metadata": {},
   "outputs": [
    {
     "data": {
      "text/html": [
       "\n",
       "        <div>\n",
       "            <p><b>SparkContext</b></p>\n",
       "\n",
       "            <p><a href=\"http://ip-172-31-82-239.ec2.internal:4040\">Spark UI</a></p>\n",
       "\n",
       "            <dl>\n",
       "              <dt>Version</dt>\n",
       "                <dd><code>v2.2.1</code></dd>\n",
       "              <dt>Master</dt>\n",
       "                <dd><code>yarn</code></dd>\n",
       "              <dt>AppName</dt>\n",
       "                <dd><code>PySparkShell</code></dd>\n",
       "            </dl>\n",
       "        </div>\n",
       "        "
      ],
      "text/plain": [
       "<SparkContext master=yarn appName=PySparkShell>"
      ]
     },
     "execution_count": 1,
     "metadata": {},
     "output_type": "execute_result"
    }
   ],
   "source": [
    "sc"
   ]
  },
  {
   "cell_type": "code",
   "execution_count": 2,
   "metadata": {},
   "outputs": [
    {
     "data": {
      "text/html": [
       "\n",
       "            <div>\n",
       "                <p><b>SparkSession - hive</b></p>\n",
       "                \n",
       "        <div>\n",
       "            <p><b>SparkContext</b></p>\n",
       "\n",
       "            <p><a href=\"http://ip-172-31-82-239.ec2.internal:4040\">Spark UI</a></p>\n",
       "\n",
       "            <dl>\n",
       "              <dt>Version</dt>\n",
       "                <dd><code>v2.2.1</code></dd>\n",
       "              <dt>Master</dt>\n",
       "                <dd><code>yarn</code></dd>\n",
       "              <dt>AppName</dt>\n",
       "                <dd><code>PySparkShell</code></dd>\n",
       "            </dl>\n",
       "        </div>\n",
       "        \n",
       "            </div>\n",
       "        "
      ],
      "text/plain": [
       "<pyspark.sql.session.SparkSession at 0x7fd32cc8a9d0>"
      ]
     },
     "execution_count": 2,
     "metadata": {},
     "output_type": "execute_result"
    }
   ],
   "source": [
    "spark"
   ]
  },
  {
   "cell_type": "markdown",
   "metadata": {},
   "source": [
    "In the following cell, make an RDD called `top1m` that contains the contents of the file `top-1m.csv` that you placed into the cluster's HDFS."
   ]
  },
  {
   "cell_type": "code",
   "execution_count": 3,
   "metadata": {},
   "outputs": [],
   "source": [
    "top1m = sc.textFile(\"top-1m.csv\")"
   ]
  },
  {
   "cell_type": "markdown",
   "metadata": {},
   "source": [
    "There is one element in the RDD for each line in the file. The `.count()` method will compute how many lines are in the file. In the following cell, type the expression to count the lines in the `top1m` RDD. Run the cell and see the result."
   ]
  },
  {
   "cell_type": "code",
   "execution_count": 4,
   "metadata": {},
   "outputs": [
    {
     "data": {
      "text/plain": [
       "1000000"
      ]
     },
     "execution_count": 4,
     "metadata": {},
     "output_type": "execute_result"
    }
   ],
   "source": [
    "top1m.count()"
   ]
  },
  {
   "cell_type": "markdown",
   "metadata": {},
   "source": [
    "## Count the `.com` domains\n",
    "\n",
    "How many of the websites in this RDD are in the .com domain?\n",
    "\n",
    "In the following cell, write a code snippet that finds the records with `.com` and counts them. (Hint: use a regular expression.)"
   ]
  },
  {
   "cell_type": "code",
   "execution_count": 5,
   "metadata": {},
   "outputs": [],
   "source": [
    "import re"
   ]
  },
  {
   "cell_type": "code",
   "execution_count": 6,
   "metadata": {},
   "outputs": [],
   "source": [
    "dotcom = top1m.filter(lambda x: x.endswith('.com'))"
   ]
  },
  {
   "cell_type": "code",
   "execution_count": 7,
   "metadata": {},
   "outputs": [
    {
     "data": {
      "text/plain": [
       "485357"
      ]
     },
     "execution_count": 7,
     "metadata": {},
     "output_type": "execute_result"
    }
   ],
   "source": [
    "dotcom.count()"
   ]
  },
  {
   "cell_type": "markdown",
   "metadata": {},
   "source": [
    "## Histogram the Top Level Domains (TLDs)\n",
    "\n",
    "What is the distribution of TLDs in the top 1 million websites? We can quickly compute this using the RDD function `countByValue()`."
   ]
  },
  {
   "cell_type": "markdown",
   "metadata": {},
   "source": [
    "In the following cell, write a function called `tld` (in Python) that takes a domain name string and outputs the top-level domain."
   ]
  },
  {
   "cell_type": "code",
   "execution_count": 102,
   "metadata": {},
   "outputs": [],
   "source": [
    "import re\n",
    "def tld(file):\n",
    "    return re.findall(r'[a-zA-Z]{2,}',file)[-1]"
   ]
  },
  {
   "cell_type": "markdown",
   "metadata": {},
   "source": [
    "In the following cell, map the `top1m` RDD using `tld` into a new RDD called `tlds`. "
   ]
  },
  {
   "cell_type": "code",
   "execution_count": 106,
   "metadata": {},
   "outputs": [],
   "source": [
    "tlds = top1m.map(tld)"
   ]
  },
  {
   "cell_type": "markdown",
   "metadata": {},
   "source": [
    "In the following two cells, evaluate `top1m.first()` and  `tlds.first()` to see if the first line of `top1m` transformed by `tld` is properly represented as the first line of `tlds`. "
   ]
  },
  {
   "cell_type": "code",
   "execution_count": 95,
   "metadata": {},
   "outputs": [
    {
     "data": {
      "text/plain": [
       "u'1,google.com'"
      ]
     },
     "execution_count": 95,
     "metadata": {},
     "output_type": "execute_result"
    }
   ],
   "source": [
    "top1m.first()"
   ]
  },
  {
   "cell_type": "code",
   "execution_count": 107,
   "metadata": {},
   "outputs": [
    {
     "data": {
      "text/plain": [
       "u'com'"
      ]
     },
     "execution_count": 107,
     "metadata": {},
     "output_type": "execute_result"
    }
   ],
   "source": [
    "tlds.first()"
   ]
  },
  {
   "cell_type": "markdown",
   "metadata": {},
   "source": [
    "Look at the first 50 elements of `top1m` by evaluating `top1m.take(50)`."
   ]
  },
  {
   "cell_type": "code",
   "execution_count": 13,
   "metadata": {},
   "outputs": [
    {
     "data": {
      "text/plain": [
       "[u'1,google.com',\n",
       " u'2,youtube.com',\n",
       " u'3,facebook.com',\n",
       " u'4,baidu.com',\n",
       " u'5,wikipedia.org',\n",
       " u'6,yahoo.com',\n",
       " u'7,qq.com',\n",
       " u'8,amazon.com',\n",
       " u'9,taobao.com',\n",
       " u'10,twitter.com',\n",
       " u'11,tmall.com',\n",
       " u'12,instagram.com',\n",
       " u'13,google.co.in',\n",
       " u'14,live.com',\n",
       " u'15,sohu.com',\n",
       " u'16,vk.com',\n",
       " u'17,jd.com',\n",
       " u'18,reddit.com',\n",
       " u'19,sina.com.cn',\n",
       " u'20,weibo.com',\n",
       " u'21,google.co.jp',\n",
       " u'22,360.cn',\n",
       " u'23,login.tmall.com',\n",
       " u'24,blogspot.com',\n",
       " u'25,linkedin.com',\n",
       " u'26,yandex.ru',\n",
       " u'27,google.ru',\n",
       " u'28,pornhub.com',\n",
       " u'29,google.co.uk',\n",
       " u'30,netflix.com',\n",
       " u'31,google.com.hk',\n",
       " u'32,google.com.br',\n",
       " u'33,yahoo.co.jp',\n",
       " u'34,csdn.net',\n",
       " u'35,t.co',\n",
       " u'36,microsoft.com',\n",
       " u'37,ebay.com',\n",
       " u'38,google.fr',\n",
       " u'39,google.de',\n",
       " u'40,alipay.com',\n",
       " u'41,pages.tmall.com',\n",
       " u'42,twitch.tv',\n",
       " u'43,msn.com',\n",
       " u'44,office.com',\n",
       " u'45,xvideos.com',\n",
       " u'46,bing.com',\n",
       " u'47,mail.ru',\n",
       " u'48,aliexpress.com',\n",
       " u'49,stackoverflow.com',\n",
       " u'50,naver.com']"
      ]
     },
     "execution_count": 13,
     "metadata": {},
     "output_type": "execute_result"
    }
   ],
   "source": [
    "top1m.take(50)"
   ]
  },
  {
   "cell_type": "markdown",
   "metadata": {},
   "source": [
    "Try the same thing with the `tlds` RDD to make sure that the first 50 lines were properly transformed.\n"
   ]
  },
  {
   "cell_type": "code",
   "execution_count": 97,
   "metadata": {},
   "outputs": [
    {
     "data": {
      "text/plain": [
       "[u'com',\n",
       " u'com',\n",
       " u'com',\n",
       " u'com',\n",
       " u'org',\n",
       " u'com',\n",
       " u'com',\n",
       " u'com',\n",
       " u'com',\n",
       " u'com',\n",
       " u'com',\n",
       " u'com',\n",
       " u'in',\n",
       " u'com',\n",
       " u'com',\n",
       " u'com',\n",
       " u'com',\n",
       " u'com',\n",
       " u'cn',\n",
       " u'com',\n",
       " u'jp',\n",
       " u'cn',\n",
       " u'com',\n",
       " u'com',\n",
       " u'com',\n",
       " u'ru',\n",
       " u'ru',\n",
       " u'com',\n",
       " u'uk',\n",
       " u'com',\n",
       " u'hk',\n",
       " u'br',\n",
       " u'jp',\n",
       " u'net',\n",
       " u'co',\n",
       " u'com',\n",
       " u'com',\n",
       " u'fr',\n",
       " u'de',\n",
       " u'com',\n",
       " u'com',\n",
       " u'tv',\n",
       " u'com',\n",
       " u'com',\n",
       " u'com',\n",
       " u'com',\n",
       " u'ru',\n",
       " u'com',\n",
       " u'com',\n",
       " u'com']"
      ]
     },
     "execution_count": 97,
     "metadata": {},
     "output_type": "execute_result"
    }
   ],
   "source": [
    "tlds.take(50)"
   ]
  },
  {
   "cell_type": "markdown",
   "metadata": {},
   "source": [
    "At this point, `tlds.countByValue()` would give us a list of each TLD and the number of times that it appears in the top1m file. Note that this function returns the results as a `defaultDict` in the Python environemnt, not as an RDD. But we want it reverse sorted by count. To do this, we can set a variable called `tlds_and_counts` equal to `tlds.countByValue()` and then reverse the order, sort, and take the top 50, like this:\n",
    "\n",
    "```\n",
    "tlds_and_counts = tlds.countByValue()\n",
    "counts_and_tlds = [(count,domain) for (domain,count) in tlds_and_counts.items()]\n",
    "```\n",
    "\n",
    "In the following cell, run the code above to produce the Python Dictionary."
   ]
  },
  {
   "cell_type": "code",
   "execution_count": 114,
   "metadata": {},
   "outputs": [],
   "source": [
    "tlds_and_counts = tlds.countByValue()\n",
    "counts_and_tlds = [(count,domain) for (domain,count) in tlds_and_counts.items()]"
   ]
  },
  {
   "cell_type": "markdown",
   "metadata": {},
   "source": [
    "In the following cell, reverse sort `counts_and_tlds` and display the first 50."
   ]
  },
  {
   "cell_type": "code",
   "execution_count": 120,
   "metadata": {},
   "outputs": [],
   "source": [
    "newlist = sorted(counts_and_tlds, key=lambda x: x[0], reverse=True)"
   ]
  },
  {
   "cell_type": "code",
   "execution_count": 123,
   "metadata": {},
   "outputs": [
    {
     "data": {
      "text/plain": [
       "[(485357, u'com'),\n",
       " (44602, u'org'),\n",
       " (42143, u'ru'),\n",
       " (41585, u'net'),\n",
       " (32858, u'de'),\n",
       " (27688, u'br'),\n",
       " (16554, u'uk'),\n",
       " (16340, u'ir'),\n",
       " (15378, u'pl'),\n",
       " (12097, u'in'),\n",
       " (11359, u'it'),\n",
       " (10561, u'au'),\n",
       " (9510, u'fr'),\n",
       " (9069, u'jp'),\n",
       " (8497, u'info'),\n",
       " (7617, u'cz'),\n",
       " (6900, u'tw'),\n",
       " (6301, u'co'),\n",
       " (6201, u'es'),\n",
       " (6059, u'ua'),\n",
       " (5724, u'io'),\n",
       " (5672, u'ca'),\n",
       " (5569, u'nl'),\n",
       " (5409, u'cn'),\n",
       " (4961, u'gr'),\n",
       " (4856, u'eu'),\n",
       " (4802, u'se'),\n",
       " (4724, u'kr'),\n",
       " (4531, u'ch'),\n",
       " (4451, u'mx'),\n",
       " (4305, u'sk'),\n",
       " (3932, u'hu'),\n",
       " (3747, u'ar'),\n",
       " (3737, u'ro'),\n",
       " (3607, u'me'),\n",
       " (3528, u'za'),\n",
       " (3397, u'tv'),\n",
       " (3378, u'at'),\n",
       " (3245, u'vn'),\n",
       " (2943, u'be'),\n",
       " (2933, u'no'),\n",
       " (2899, u'us'),\n",
       " (2813, u'tr'),\n",
       " (2768, u'edu'),\n",
       " (2515, u'dk'),\n",
       " (2496, u'cl'),\n",
       " (2321, u'biz'),\n",
       " (2286, u'pt'),\n",
       " (2241, u'id'),\n",
       " (1983, u'xyz')]"
      ]
     },
     "execution_count": 123,
     "metadata": {},
     "output_type": "execute_result"
    }
   ],
   "source": [
    "newlist[0:50]"
   ]
  },
  {
   "cell_type": "markdown",
   "metadata": {},
   "source": [
    "**Question:** `top1m.collect()[0:50]` and `top1m.take(50)` produce the same result. Which one is more efficient and why? Put your answer in the cell below."
   ]
  },
  {
   "cell_type": "code",
   "execution_count": null,
   "metadata": {},
   "outputs": [],
   "source": [
    "top1m.take(50) is more efficient, because the collect command collects everything and then select the first 50 results, but the take command only takes the first 50 results."
   ]
  },
  {
   "cell_type": "markdown",
   "metadata": {},
   "source": [
    "When you finish this problem, click on the File -> 'Save and Checkpoint' in the menu bar to make sure that the latest version of the workbook file is saved. Also, before you close this notebook and move on, make sure you disconnect your SparkContext, otherwise you will not be able to re-allocate resources. Remember, you will commit the .ipynb file to the repository for submission (in the master node terminal.)"
   ]
  },
  {
   "cell_type": "code",
   "execution_count": 122,
   "metadata": {},
   "outputs": [],
   "source": [
    "sc.stop()"
   ]
  }
 ],
 "metadata": {
  "kernelspec": {
   "display_name": "Python 2",
   "language": "python",
   "name": "python2"
  },
  "language_info": {
   "codemirror_mode": {
    "name": "ipython",
    "version": 2
   },
   "file_extension": ".py",
   "mimetype": "text/x-python",
   "name": "python",
   "nbconvert_exporter": "python",
   "pygments_lexer": "ipython2",
   "version": "2.7.13"
  }
 },
 "nbformat": 4,
 "nbformat_minor": 2
}
